{
 "cells": [
  {
   "cell_type": "code",
   "execution_count": 1,
   "metadata": {},
   "outputs": [],
   "source": [
    "import requests\n",
    "import time"
   ]
  },
  {
   "cell_type": "code",
   "execution_count": 2,
   "metadata": {},
   "outputs": [],
   "source": [
    "def GetResRequest(request_url: str) -> requests.Response:\n",
    "  time.sleep(1.0)\n",
    "  return requests.get(request_url)"
   ]
  },
  {
   "cell_type": "code",
   "execution_count": 3,
   "metadata": {},
   "outputs": [],
   "source": [
    "pugrest_prolog = \"https://pubchem.ncbi.nlm.nih.gov/rest/pug\"\n",
    "pugrest_aspirin = \"compound/cid/2244\" # Aspirin\n",
    "pugrest_request_property_url = \"/\".join((pugrest_prolog, pugrest_aspirin, \"property\"))"
   ]
  },
  {
   "cell_type": "code",
   "execution_count": 4,
   "metadata": {},
   "outputs": [
    {
     "name": "stdout",
     "output_type": "stream",
     "text": [
      "REQEST URL: https://pubchem.ncbi.nlm.nih.gov/rest/pug/compound/cid/2244/property/MolecularFormula/txt\n",
      "OUTPUT    : C9H8O4\n"
     ]
    }
   ],
   "source": [
    "pugrest_operation = \"MolecularFormula\"\n",
    "pugrest_output = \"txt\"\n",
    "\n",
    "pugrest_aspirin_mol_formula_url = \"/\".join((pugrest_request_property_url, pugrest_operation, pugrest_output))\n",
    "print(\"REQEST URL:\", pugrest_aspirin_mol_formula_url)\n",
    "\n",
    "res = GetResRequest(pugrest_aspirin_mol_formula_url)\n",
    "print(\"OUTPUT    :\", res.text.strip())\n"
   ]
  },
  {
   "cell_type": "code",
   "execution_count": 5,
   "metadata": {},
   "outputs": [],
   "source": [
    "def GetAspirinPropertyPugRestRequest(operation: str, output: str = \"txt\") -> requests.Response:\n",
    "  pugrest_prolog = \"https://pubchem.ncbi.nlm.nih.gov/rest/pug\"\n",
    "  pugrest_aspirin = \"compound/cid/2244\" # Aspirin\n",
    "  pugrest_request_property_url = \"/\".join((pugrest_prolog, pugrest_aspirin, \"property\"))\n",
    "\n",
    "  return GetResRequest(\"/\".join((pugrest_request_property_url, operation, output)))"
   ]
  },
  {
   "cell_type": "code",
   "execution_count": 6,
   "metadata": {},
   "outputs": [],
   "source": [
    "def GetAspirinMultiPropertyPugRestRequest(operations: list[str]) -> requests.Response:\n",
    "  pugrest_prolog = \"https://pubchem.ncbi.nlm.nih.gov/rest/pug\"\n",
    "  pugrest_aspirin = \"compound/cid/2244\" # Aspirin\n",
    "  pugrest_request_property_url = \"/\".join((pugrest_prolog, pugrest_aspirin, \"property\"))\n",
    "    \n",
    "  return GetResRequest(\"/\".join((pugrest_request_property_url, \",\".join(operations), \"csv\")))"
   ]
  },
  {
   "cell_type": "code",
   "execution_count": 7,
   "metadata": {},
   "outputs": [
    {
     "name": "stdout",
     "output_type": "stream",
     "text": [
      "MolecularWeight   : 180.16\n",
      "HBondDonorCount   : 1\n",
      "HBondAcceptorCount: 4\n",
      "HeavyAtomCount    : 13\n",
      "XLogP             : 1.200\n",
      "TPSA              : 63.6\n"
     ]
    }
   ],
   "source": [
    "# Molecular weight\n",
    "print(\"MolecularWeight   :\", GetAspirinPropertyPugRestRequest(\"MolecularWeight\").text.strip())\n",
    "\n",
    "# Hydrogen-bond donor count\n",
    "print(\"HBondDonorCount   :\", GetAspirinPropertyPugRestRequest(\"HBondDonorCount\").text.strip())\n",
    "\n",
    "# Hydrogen-bond acceptor count\n",
    "print(\"HBondAcceptorCount:\", GetAspirinPropertyPugRestRequest(\"HBondAcceptorCount\").text.strip())\n",
    "\n",
    "# Heavy (non-hydrogen) atom count\n",
    "print(\"HeavyAtomCount    :\", GetAspirinPropertyPugRestRequest(\"HeavyAtomCount\").text.strip())\n",
    "\n",
    "# XLogP\n",
    "print(\"XLogP             :\", GetAspirinPropertyPugRestRequest(\"XLogP\").text.strip())\n",
    "\n",
    "# Topological polar surface area (TPSA)\n",
    "print(\"TPSA              :\", GetAspirinPropertyPugRestRequest(\"TPSA\").text.strip())\n",
    "\n",
    "# print(\"Toxicity    :\", GetAspirinPropertyPugRestRequest(\"Toxicity\").text.strip())"
   ]
  },
  {
   "cell_type": "code",
   "execution_count": 8,
   "metadata": {},
   "outputs": [
    {
     "name": "stdout",
     "output_type": "stream",
     "text": [
      "\"CID\",\"MolecularWeight\",\"HBondDonorCount\",\"HBondAcceptorCount\",\"HeavyAtomCount\",\"XLogP\",\"TPSA\"\n",
      "2244,180.16,1,4,13,1.200,63.6\n"
     ]
    }
   ],
   "source": [
    "print(GetAspirinMultiPropertyPugRestRequest([\"MolecularWeight\",\"HBondDonorCount\",\"HBondAcceptorCount\",\"HeavyAtomCount\",\"XLogP\",\"TPSA\"]).text.strip())"
   ]
  }
 ],
 "metadata": {
  "kernelspec": {
   "display_name": ".venv",
   "language": "python",
   "name": "python3"
  },
  "language_info": {
   "codemirror_mode": {
    "name": "ipython",
    "version": 3
   },
   "file_extension": ".py",
   "mimetype": "text/x-python",
   "name": "python",
   "nbconvert_exporter": "python",
   "pygments_lexer": "ipython3",
   "version": "3.12.8"
  }
 },
 "nbformat": 4,
 "nbformat_minor": 2
}
