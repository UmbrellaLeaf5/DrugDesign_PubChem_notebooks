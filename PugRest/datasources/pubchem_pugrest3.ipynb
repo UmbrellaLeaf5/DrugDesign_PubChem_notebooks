{
 "cells": [
  {
   "cell_type": "markdown",
   "id": "75cea1ab-1fd0-4cce-885e-020fe9c97b0a",
   "metadata": {},
   "source": [
    "# Accessing PubChem through PUG-REST: Part III\n",
    "\n",
    "```{dropdown} About this interactive ![icons](../static/img/rocket.png) recipe\n",
    "- Author(s): [Sunghwan Kim](https://orcid.org/0000-0001-9828-2074)\n",
    "- Reviewer: [Samuel Munday](https://orcid.org/0000-0001-5404-6934)\n",
    "- Topic(s): How to retrieve chemical data using chemical identifiers.\n",
    "- Format: Interactive Jupyter Notebook (Python)\n",
    "- Scenario: You need to access and potentially download chemical data.\n",
    "- Skills: You should be familar with:\n",
    "    - [Application Programming Interfaces (APIs)](https://www.ibm.com/topics/api)\n",
    "    - [Introductory Python](https://www.youtube.com/watch?v=kqtD5dpn9C8)\n",
    "    - [SMILES](https://chem.libretexts.org/Courses/University_of_Arkansas_Little_Rock/ChemInformatics_(2017)%3A_Chem_4399_5399/2.3%3A_Chemical_Representations_on_Computer%3A_Part_III)\n",
    "    - [InChI strings](https://www.inchi-trust.org/)\n",
    "- Learning outcomes:\n",
    "    - How to access PubChem chemical data using a chemical identifiers\n",
    "    - How to search PubChem using 2-D and 3-D molecular similarity\n",
    "    - How to search PubChem using substructures and superstructures\n",
    "- Citation: 'Accessing PubChem through PUG-REST - Part III', Sunghwan Kim, The IUPAC FAIR Chemistry Cookbook, Contributed: 2023-02-28 [https://w3id.org/ifcc/IFCC008](https://w3id.org/ifcc/IFCC008).\n",
    "- Reuse: This notebook is made available under a [CC-BY-4.0](https://creativecommons.org/licenses/by/4.0/) license.\n",
    "```"
   ]
  },
  {
   "cell_type": "code",
   "execution_count": 1,
   "id": "29d003b0-6ebc-44ad-a14a-0ec49752b942",
   "metadata": {},
   "outputs": [],
   "source": [
    "import requests\n",
    "import time\n",
    "import io\n",
    "import csv\n",
    "from IPython.display import Image, display"
   ]
  },
  {
   "cell_type": "markdown",
   "id": "21354545-fcf6-4fd1-bfb8-e85bbff718c9",
   "metadata": {},
   "source": [
    "## 1. Using a SMILES or InChI string as an input query"
   ]
  },
  {
   "cell_type": "code",
   "execution_count": 2,
   "id": "bb666fc3-7a6f-46fc-8192-491d1575624d",
   "metadata": {},
   "outputs": [
    {
     "name": "stdout",
     "output_type": "stream",
     "text": [
      "2244\n"
     ]
    }
   ],
   "source": [
    "smiles = \"CC(=O)OC1=CC=CC=C1C(=O)O\"\n",
    "print(requests.get(\"https://pubchem.ncbi.nlm.nih.gov/rest/pug/compound/smiles/\" + smiles + \"/cids/txt\").text.strip())"
   ]
  },
  {
   "cell_type": "markdown",
   "id": "5656c52b-2a52-46e8-8245-d4d2c47fd9d1",
   "metadata": {},
   "source": [
    "Some SMILES strings contain characters not compatible with the PUG-REST request URL syntax.  For example, isomeric SMILES uses the \"/\" character (forward slash) to represent the E/Z or cis/trans stereochemistry of a molecule.  However, because the \"/\" character is also used in the request URL to separate the segments of the URL path, the use of such SMILES strings as an input structure will result an error."
   ]
  },
  {
   "cell_type": "code",
   "execution_count": 3,
   "id": "f5f55255-04d0-4d9d-9aa6-4c30454f2d69",
   "metadata": {},
   "outputs": [
    {
     "name": "stdout",
     "output_type": "stream",
     "text": [
      "Status: 400\n",
      "Code: PUGREST.BadRequest\n",
      "Message: Unable to standardize the given structure - perhaps some special characters need to be escaped or data packed in a MIME form?\n",
      "Detail: error: \n",
      "Detail: status: 400\n",
      "Detail: output: Caught ncbi::CException: Standardization failed\n",
      "Detail: Output Log:\n",
      "Detail: Record 1: Warning: Cactvs Ensemble cannot be created from input string\n",
      "Detail: Record 1: Error: Unable to convert input into a compound object\n",
      "Detail: \n",
      "Detail:\n"
     ]
    }
   ],
   "source": [
    "smiles = \"CC(C)C1=NC(=NC(=C1/C=C/[C@H](C[C@H](CC(=O)O)O)O)C2=CC=C(C=C2)F)N(C)S(=O)(=O)C\"\n",
    "print(requests.get(\"https://pubchem.ncbi.nlm.nih.gov/rest/pug/compound/smiles/\" + smiles + \"/cids/txt\").text.strip())"
   ]
  },
  {
   "cell_type": "markdown",
   "id": "aa8240ba-82a8-4e50-a1cb-b85600f8d28c",
   "metadata": {},
   "source": [
    "To circumvent this issue, the SMILES input should be provided in one of the following two ways:\n",
    "1. as a URL parameter\n",
    "2. in the HTTP header (using the HTTP POST method)."
   ]
  },
  {
   "cell_type": "code",
   "execution_count": 4,
   "id": "aa6477be-22d8-4f54-8f66-1408484111f1",
   "metadata": {},
   "outputs": [
    {
     "name": "stdout",
     "output_type": "stream",
     "text": [
      "446157\n",
      "446157\n"
     ]
    }
   ],
   "source": [
    "smiles = \"CC(C)C1=NC(=NC(=C1/C=C/[C@H](C[C@H](CC(=O)O)O)O)C2=CC=C(C=C2)F)N(C)S(=O)(=O)C\"\n",
    "\n",
    "# As a URL parameter\n",
    "print(requests.get(\"https://pubchem.ncbi.nlm.nih.gov/rest/pug/compound/smiles/cids/txt\" + \"?smiles=\" + smiles).text.strip())\n",
    "\n",
    "# In the HTTP header (using HTTP Post)\n",
    "print(requests.post(\"https://pubchem.ncbi.nlm.nih.gov/rest/pug/compound/smiles/cids/txt\", data={'smiles':smiles}).text.strip())"
   ]
  },
  {
   "cell_type": "markdown",
   "id": "73595524-628c-476f-85ca-f9194915abd0",
   "metadata": {},
   "source": [
    "InChI encodes the chemical structure information into multiple layers and sublayers, separated by the \"/\" character.  For this reason, InChI strings should also be provided as a URL parameter or in the HTTP header (using HTTP host)."
   ]
  },
  {
   "cell_type": "code",
   "execution_count": 5,
   "id": "1c8c8d17-cf5c-4778-8b92-18897d05f4d8",
   "metadata": {},
   "outputs": [
    {
     "name": "stdout",
     "output_type": "stream",
     "text": [
      "2244\n",
      "2244\n"
     ]
    }
   ],
   "source": [
    "inchi = \"InChI=1S/C9H8O4/c1-6(10)13-8-5-3-2-4-7(8)9(11)12/h2-5H,1H3,(H,11,12)\"\n",
    "\n",
    "# With the request URL : WILL NOT WORK\n",
    "#print(requests.get(\"https://pubchem.ncbi.nlm.nih.gov/rest/pug/compound/inchi/\" + inchi + \"/cids/txt\").text.strip())\n",
    "\n",
    "# As a URL parameter\n",
    "print(requests.get(\"https://pubchem.ncbi.nlm.nih.gov/rest/pug/compound/inchi/cids/txt\" + \"?inchi=\" + inchi).text.strip())\n",
    "\n",
    "# In the HTTP header (using HTTP Post)\n",
    "print(requests.post(\"https://pubchem.ncbi.nlm.nih.gov/rest/pug/compound/inchi/cids/txt\", data={'inchi':inchi}).text.strip())"
   ]
  },
  {
   "cell_type": "markdown",
   "id": "f49ae9f4-5ccc-49ec-b45f-235ae3dedb68",
   "metadata": {},
   "source": [
    "## 2. Performing identity search"
   ]
  },
  {
   "cell_type": "code",
   "execution_count": 6,
   "id": "d9c309f3-d059-49ad-bb6f-fa1823e5bf01",
   "metadata": {},
   "outputs": [],
   "source": [
    "smiles = \"CC(C)/C=C/I\""
   ]
  },
  {
   "cell_type": "code",
   "execution_count": 7,
   "id": "b4d16675-456b-4b09-8731-82b5c3c9e7c8",
   "metadata": {},
   "outputs": [
    {
     "name": "stdout",
     "output_type": "stream",
     "text": [
      "14571425\n",
      "14571425\n"
     ]
    }
   ],
   "source": [
    "# Compounds with the same stereochemistry and isotopism (default)\n",
    "print(requests.get(\"https://pubchem.ncbi.nlm.nih.gov/rest/pug/compound/fastidentity/cid/14571425/cids/txt\").text.strip())\n",
    "print(requests.get(\"https://pubchem.ncbi.nlm.nih.gov/rest/pug/compound/fastidentity/cid/14571425/cids/txt?identity_type=same_stereo_isotope\").text.strip())"
   ]
  },
  {
   "cell_type": "code",
   "execution_count": 8,
   "id": "12cb21e1-6a85-40be-a0b1-8f36caa5c090",
   "metadata": {},
   "outputs": [
    {
     "name": "stdout",
     "output_type": "stream",
     "text": [
      "['14571425', '14571426', '71380237']\n"
     ]
    },
    {
     "data": {
      "image/png": "[encoded data removed]",
      "text/plain": [
       "<IPython.core.display.Image object>"
      ]
     },
     "metadata": {},
     "output_type": "display_data"
    },
    {
     "name": "stdout",
     "output_type": "stream",
     "text": [
      "CID 14571425 : CC(C)/C=C/I\n",
      "\n"
     ]
    },
    {
     "data": {
      "image/png": "[encoded data removed]",
      "text/plain": [
       "<IPython.core.display.Image object>"
      ]
     },
     "metadata": {},
     "output_type": "display_data"
    },
    {
     "name": "stdout",
     "output_type": "stream",
     "text": [
      "CID 14571426 : CC(C)/C=C\\I\n",
      "\n"
     ]
    },
    {
     "data": {
      "image/png": "[encoded data removed]",
      "text/plain": [
       "<IPython.core.display.Image object>"
      ]
     },
     "metadata": {},
     "output_type": "display_data"
    },
    {
     "name": "stdout",
     "output_type": "stream",
     "text": [
      "CID 71380237 : CC(C)C=CI\n",
      "\n"
     ]
    }
   ],
   "source": [
    "# Compounds with the same isotopism (stereochemistry can be different)\n",
    "cids1 = requests.post(\"https://pubchem.ncbi.nlm.nih.gov/rest/pug/compound/fastidentity/smiles/cids/txt?identity_type=same_isotope\", data={'smiles':smiles}).text.strip().split()\n",
    "print(cids1)\n",
    "\n",
    "for mycid in cids1:\n",
    "    display(Image(requests.get(\"https://pubchem.ncbi.nlm.nih.gov/rest/pug/compound/cid/\" + mycid + \"/record/PNG?image_size=200x200\").content))\n",
    "    print(\"CID \" + mycid, \":\", requests.get(\"https://pubchem.ncbi.nlm.nih.gov/rest/pug/compound/cid/\" + mycid + \"/property/IsomericSMILES/TXT\").text)\n",
    "    time.sleep(0.2)"
   ]
  },
  {
   "cell_type": "code",
   "execution_count": 9,
   "id": "a1e01df4-2f30-47c7-8294-df6e3a93b906",
   "metadata": {},
   "outputs": [
    {
     "name": "stdout",
     "output_type": "stream",
     "text": [
      "['14571425', '118122558']\n"
     ]
    },
    {
     "data": {
      "image/png": "[encoded data removed]",
      "text/plain": [
       "<IPython.core.display.Image object>"
      ]
     },
     "metadata": {},
     "output_type": "display_data"
    },
    {
     "name": "stdout",
     "output_type": "stream",
     "text": [
      "CID 14571425 : CC(C)/C=C/I\n",
      "\n"
     ]
    },
    {
     "data": {
      "image/png": "[encoded data removed]",
      "text/plain": [
       "<IPython.core.display.Image object>"
      ]
     },
     "metadata": {},
     "output_type": "display_data"
    },
    {
     "name": "stdout",
     "output_type": "stream",
     "text": [
      "CID 118122558 : [2H]C[C@@H](C)/C=C/I\n",
      "\n"
     ]
    }
   ],
   "source": [
    "# Compounds with the same stereochemistry (isotopism can be different)\n",
    "cids2 = requests.post(\"https://pubchem.ncbi.nlm.nih.gov/rest/pug/compound/fastidentity/smiles/cids/txt?identity_type=same_stereo\", data={'smiles':smiles}).text.strip().split()\n",
    "print(cids2)\n",
    "\n",
    "for mycid in cids2:\n",
    "    display(Image(requests.get(\"https://pubchem.ncbi.nlm.nih.gov/rest/pug/compound/cid/\" + mycid + \"/record/PNG?image_size=200x200\").content))\n",
    "    print(\"CID \" + mycid, \":\", requests.get(\"https://pubchem.ncbi.nlm.nih.gov/rest/pug/compound/cid/\" + mycid + \"/property/IsomericSMILES/TXT\").text)\n",
    "    time.sleep(0.2)"
   ]
  },
  {
   "cell_type": "code",
   "execution_count": 10,
   "id": "dad1d16d-609f-459e-9544-e7fa0a313a4b",
   "metadata": {},
   "outputs": [
    {
     "name": "stdout",
     "output_type": "stream",
     "text": [
      "['14571425', '14571426', '71380237', '118122558', '123616558']\n"
     ]
    }
   ],
   "source": [
    "# Compounds with the same connectivity (stereochemistry and isotopism can be different)\n",
    "cids3 = requests.post(\"https://pubchem.ncbi.nlm.nih.gov/rest/pug/compound/fastidentity/smiles/cids/txt?identity_type=same_connectivity\", data={'smiles':smiles}).text.strip().split()\n",
    "print(cids3)    # All compounds in cids1 and cids2 are returned."
   ]
  },
  {
   "cell_type": "markdown",
   "id": "ed3a40cd-b6f2-431c-bb64-2a6987c886cf",
   "metadata": {},
   "source": [
    "## 3. Performing 2-D and 3-D similarity search"
   ]
  },
  {
   "cell_type": "code",
   "execution_count": 11,
   "id": "511bae73-8db5-46f3-bfa0-6b0d9f84d2a6",
   "metadata": {},
   "outputs": [
    {
     "name": "stdout",
     "output_type": "stream",
     "text": [
      "603\n",
      "['155903259', '162396372', '162396452', '162396453', '162396458', '162396459', '162685338', '162712460', '162712462', '162712482', '162712489', '162712498', '163283236', '163283243', '163283284', '163361997', '163362001', '166149071', '166157194', '167203580', '167203608', '167331698', '167518234', '163421961', '162396450', '162396460', '162396461', '168290284', '162396442', '162712471', '166157023', '166157057', '166157065', '166157205', '167331610', '167331612', '168870655', '157010397', '168301133', '168291677', '171347857', '171355745', '162478807', '162479130', '163283238', '163283239', '163283322', '163283330', '163283343', '163283370', '163283371', '163283387', '163283390', '163283407', '163341926', '163361849', '163361998', '163362005', '163362008', '163362009', '163362014', '163362016', '163362026', '163362029', '163362031', '163941851', '164040179', '164158215', '164159966', '164701733', '164701736', '164701738', '164701741', '164701742', '164701743', '164701748', '164701749', '164701757', '164701758', '164701760', '164701766', '164701772', '164701773', '164701775', '164701776', '164701777', '164701789', '164701794', '164701800', '164701805', '164701807', '164701812', '164701813', '164701815', '164701816', '164701817', '164701818', '164701819', '164701821', '164766036', '164766041', '164785132', '164850071', '164971185', '165179472', '165179485', '165179486', '165179488', '166149062', '166149074', '166149077', '166149089', '166149094', '166149137', '166156664', '166156828', '166156836', '166157017', '166157043', '166157215', '166157269', '166494662', '166494843', '166537627', '166840326', '166840392', '166840457', '166840466', '166840731', '166891533', '166891547', '166891596', '166891665', '166893182', '166893274', '166893275', '166893276', '166893348', '166893351', '167065080', '167065082', '167065154', '167065160', '167094315', '167094316', '167094334', '167094341', '167203581', '167206597', '167206598', '167206599', '167206807', '167207061', '167229685', '167251496', '167278770', '167331630', '167331639', '167338845', '167338850', '167338914', '167338917', '167338943', '167480975', '167480997', '167481005', '167481033', '167481034', '167481037', '167481072', '167481103', '167481130', '167481158', '167481199', '167481201', '167481202', '167481210', '167481232', '167481234', '167481250', '167481257', '167481266', '167481309', '167481324', '167481327', '167481349', '167481356', '167481364', '167481374', '167481379', '167481386', '167481398', '167481400', '167481430', '167481462', '167481474', '167481480', '167481535', '167481542', '167481547', '167481557', '167481565', '167481566', '167481575', '167481608', '167481637', '167481640', '167481663', '167481675', '167481747', '167481808', '167481821', '167481860', '167481876', '167481880', '167481900', '167481908', '167481917', '167481924', '167481927', '167481929', '167481944', '167481950', '167481970', '167481972', '167481999', '167482005', '167482039', '167482043', '167482074', '167482083', '167482106', '167482167', '167482178', '167482205', '167482212', '167482213', '167482218', '167482232', '167482240', '167482261', '167482283', '167482292', '167482295', '167482314', '167482317', '167518190', '167521394', '167579537', '168142141', '168142152', '168142166', '168142167', '168142213', '168750579', '168750586', '168750590', '168750593', '168878798', '168941969', '168942044', '169084224', '169122295', '169193197', '169193261', '169193357', '169193547', '169193552', '169193733', '169193751', '169193754', '169193839', '169193963', '169193968', '169194030', '169194114', '169194124', '169194140', '169194186', '169194204', '169194236', '169194258', '169194427', '169240696', '169240697', '169240701', '169283836', '169283867', '169283881', '169291133', '169436363', '169595627', '169595871', '169595876', '169595900', '169595902', '169595937', '169595991', '169595994', '169597577', '169655654', '169655658', '169655661', '169655677', '169655713', '169655746', '169655747', '169655787', '169655789', '169676887', '169686050', '169686051', '169707956', '169707957', '169732235', '169732236', '169734644', '169735016', '169737661', '169816596', '169860851', '169860855', '169860863', '169860866', '169860882', '169861043', '169861121', '169861122', '169861123', '169861126', '169861127', '169861128', '169861209', '169861410', '169861544', '169861545', '169861547', '169861552', '169861641', '169861643', '169861899', '169861924', '169862040', '169878303', '169878305', '169878307', '169878308', '169878350', '169878352', '169878353', '169878366', '169878439', '169878441', '169878442', '169878445', '169878446', '169878447', '169878448', '169878449', '169878451', '169878452', '169878453', '169878454', '169878455', '169878511', '169878512', '169878513', '169878514', '169878517', '169878631', '169878890', '169907886', '169907978', '169914647', '169914666', '169914913', '169966328', '169979396', '169979540', '169989970', '169994700', '169994701', '169994702', '169994703', '169994705', '169994706', '169994745', '169994895', '169994956', '169995108', '169995153', '169995154', '169995401', '169995678', '169995679', '169995904', '170005512', '170036051', '170036248', '170036541', '170036799', '170036842', '170036848', '170036858', '170036928', '170036943', '170036979', '170037210', '170037247', '170038496', '170052972', '170052975', '170053129', '170053614', '170053627', '170053669', '170054633', '170054800', '170060745', '170060748', '170151866', '170164590', '170164688', '170164691', '170164767', '170165331', '170165489', '170165491', '170165562', '170165698', '170165798', '170166112', '170166207', '170166212', '170166479', '170166597', '170166774', '170166889', '170166912', '170166968', '170167024', '170167108', '170167453', '170167521', '170167675', '170167936', '170168021', '170203998', '170404012', '170552067', '170552068', '170631558', '170631565', '170631680', '170631745', '170701828', '170701834', '170701836', '170701844', '170701848', '170701854', '170701858', '171108715', '171108717', '171530265', '171534254', '171534270', '171843250', '171843260', '172118140', '172118146', '172118147', '172118153', '172118162', '172118182', '172118188', '172118204', '172118214', '172118221', '172118226', '172118235', '172118239', '172118244', '172118277', '172118278', '172118286', '172118291', '172118304', '172118309', '172118317', '172118328', '172118346', '172118347', '172118353', '172118354', '172118355', '172118358', '172118360', '163285815', '166149063', '166156829', '167481104', '167482299', '167482300', '168010016', '168310836', '168310837', '168476190', '168878799', '169240702', '169436361', '171379688', '171394959', '171530266', '162712468', '162712490', '162712506', '163283283', '163362019', '164701798', '164701802', '164850073', '164850290', '166157157', '166964883', '166964886', '166964888', '166964890', '166964899', '166964903', '166964904', '166964908', '166964913', '166986000', '166986065', '166986067', '166986077', '167203321', '167481489', '167482130', '167537951', '167574477', '167574478', '167674037', '168093174', '168154285', '168993735', '169084219', '169084221', '169084228', '169095061', '169193396', '169193437', '169193895', '169193967', '169193984', '169194217', '169194293', '169194319', '169194330', '169194348', '169595592', '169595872', '169595897', '169595998', '169655830', '169728040', '169728041', '169728431', '169728432', '169736642', '169736643', '169862121', '169878349', '169914451', '169915447', '169915455', '169915574', '169995311', '170014641', '170036241', '170036499', '170036602', '170052965', '170053029', '170053921', '170080981', '170164555', '170165348', '170165794', '170165926', '170166075', '170167073', '170167420', '170167651', '170167680', '170168510', '170168543', '170200729', '170201013', '170291885', '166642632', '168993728']\n"
     ]
    }
   ],
   "source": [
    "smiles = \"CC1([C@@H]2[C@H]1[C@H](N(C2)C(=O)[C@H](C(C)(C)C)NC(=O)C(F)(F)F)C(=O)N[C@@H](C[C@@H]3CCNC3=O)C#N)C\"\n",
    "cids = requests.post(\"https://pubchem.ncbi.nlm.nih.gov/rest/pug/compound/fastsimilarity_2d/smiles/cids/txt\", data={'smiles':smiles}).text.strip().split()\n",
    "print(len(cids))\n",
    "print(cids)"
   ]
  },
  {
   "cell_type": "markdown",
   "id": "8cfa59c4-849e-4fb6-a39c-4ddb3177eb02",
   "metadata": {},
   "source": [
    "You can adjust the similarity threshold using the optional parameter \"**Threshold**\".  T The following request performs a 2-D similarity search with a tighter similarity threshold (95)"
   ]
  },
  {
   "cell_type": "code",
   "execution_count": 12,
   "id": "0b107aa9-3c55-4674-960b-a0d8beb5052e",
   "metadata": {},
   "outputs": [
    {
     "name": "stdout",
     "output_type": "stream",
     "text": [
      "43\n",
      "['155903259', '162396459', '163362001', '166157194', '167331698', '168290284', '168301133', '163341926', '163361849', '163362005', '163362031', '164040179', '164701758', '164701760', '164701812', '164701813', '164701818', '167065082', '167094315', '167094316', '169240696', '169595994', '169686051', '169707956', '169707957', '169860851', '169860863', '169861121', '169861123', '169861544', '169861545', '169878303', '169878307', '169914913', '170060748', '170404012', '170701834', '171530265', '163285815', '168476190', '169240702', '171394959', '166642632']\n"
     ]
    }
   ],
   "source": [
    "smiles = \"CC1([C@@H]2[C@H]1[C@H](N(C2)C(=O)[C@H](C(C)(C)C)NC(=O)C(F)(F)F)C(=O)N[C@@H](C[C@@H]3CCNC3=O)C#N)C\"\n",
    "cids = requests.post(\"https://pubchem.ncbi.nlm.nih.gov/rest/pug/compound/fastsimilarity_2d/smiles/cids/txt?Threshold=99\", data={'smiles':smiles}).text.strip().split()\n",
    "print(len(cids))\n",
    "print(cids)"
   ]
  },
  {
   "cell_type": "markdown",
   "id": "09822162-d3a9-41de-b8a5-f57c198be80d",
   "metadata": {},
   "source": [
    "Note that the use of the higher threshold (99) than the default (90) results in fewer structures."
   ]
  },
  {
   "cell_type": "markdown",
   "id": "3740bc04-a81e-444e-b412-56ae03477bcb",
   "metadata": {},
   "source": [
    "It is also possible to get line notations and molecular properties for the compounds returned from chemical structure search."
   ]
  },
  {
   "cell_type": "code",
   "execution_count": 13,
   "id": "cd457697-782e-4e70-96a8-dc66e9cc37f5",
   "metadata": {},
   "outputs": [
    {
     "name": "stdout",
     "output_type": "stream",
     "text": [
      "\"CID\",\"HeavyAtomCount\",\"MolecularFormula\",\"IsomericSMILES\"\n",
      "155903259,35,\"C23H32F3N5O4\",\"CC1([C@@H]2[C@H]1[C@H](N(C2)C(=O)[C@H](C(C)(C)C)NC(=O)C(F)(F)F)C(=O)N[C@@H](C[C@@H]3CCNC3=O)C#N)C\"\n",
      "162396459,35,\"C23H32F3N5O4\",\"CC1([C@@H]2[C@H]1[C@H](N(C2)C(=O)[C@H](C(C)(C)C)NC(=O)C(F)(F)F)C(=O)N[C@H](C[C@@H]3CCNC3=O)C#N)C\"\n",
      "163362001,35,\"C23H32F3N5O4\",\"CC(C)C[C@@H](C(=O)N1C[C@H]2[C@@H]([C@H]1C(=O)N[C@@H](C[C@@H]3CCNC3=O)C#N)C2(C)C)NC(=O)C(F)(F)F\"\n",
      "166157194,34,\"C23H33F2N5O4\",\"CC1([C@@H]2[C@H]1[C@H](N(C2)C(=O)[C@H](C(C)(C)C)NC(=O)C(F)F)C(=O)N[C@@H](C[C@@H]3CCNC3=O)C#N)C\"\n",
      "167331698,34,\"C23H33F2N5O4\",\"CC(C)C[C@@H](C(=O)N1C[C@H]2[C@@H]([C@H]1C(=O)N[C@@H](C[C@@H]3CCNC3=O)C#N)C2(C)C)NC(=O)C(F)F\"\n",
      "168290284,35,\"C23H32F3N5O4\",\"CC1([C@@H]2[C@H]1[C@H](N(C2)C(=O)[C@H](C(C)(C)C)NC(=O)C(F)(F)F)C(=O)N[C@@H](C[C@H]3CCNC3=O)C#N)C\"\n",
      "168301133,35,\"C23H32F3N5O4\",\"CC1([C@@H]2[C@H]1C(N(C2)C(=O)C(C(C)(C)C)NC(=O)C(F)(F)F)C(=O)N[C@@H](C[C@@H]3CCNC3=O)C#N)C\"\n",
      "163341926,35,\"C23H32F3N5O4\",\"CC1(C2C1C(N(C2)C(=O)C(C(C)(C)C)NC(=O)C(F)(F)F)C(=O)NC(CC3CCNC3=O)C#N)C\"\n",
      "163361849,35,\"C23H32F3N5O4\",\"CC1([C@@H]2[C@H]1[C@H](N(C2)C(=O)[C@H](C(C)(C)C)NC(=O)C(F)(F)F)C(=O)N[C@@H](CC3CCNC3=O)C#N)C\"\n",
      "163362005,35,\"C23H32F3N5O4\",\"CC(C)[C@@H](C(=O)N1C[C@H]2[C@@H]([C@H]1C(=O)N[C@@H](C[C@@H]3CCNC3=O)C#N)C2(C)C)NC(=O)CC(F)(F)F\"\n",
      "163362031,36,\"C24H34F3N5O4\",\"CC1([C@@H]2[C@H]1[C@H](N(C2)C(=O)[C@H](CC(C)(C)C)NC(=O)C(F)(F)F)C(=O)N[C@@H](C[C@@H]3CCNC3=O)C#N)C\"\n",
      "164040179,36,\"C24H36F3N5O4\",\"C.CC1([C@@H]2[C@H]1[C@H](N(C2)C(=O)[C@H](C(C)(C)C)NC(=O)C(F)(F)F)C(=O)N[C@@H](C[C@@H]3CCNC3=O)C#N)C\"\n",
      "164701758,35,\"C23H32F3N5O4\",\"CC(C)[C@@H](C(=O)N1CC2C(C1C(=O)N[C@@H](C[C@@H]3CCNC3=O)C#N)C2(C)C)NC(=O)CC(F)(F)F\"\n",
      "164701760,36,\"C24H34F3N5O4\",\"CC1(C2C1C(N(C2)C(=O)[C@H](CC(C)(C)C)NC(=O)C(F)(F)F)C(=O)N[C@@H](C[C@@H]3CCNC3=O)C#N)C\"\n",
      "164701812,35,\"C23H32F3N5O4\",\"CC1(C2C1C(N(C2)C(=O)[C@H](C(C)(C)C)NC(=O)C(F)(F)F)C(=O)N[C@@H](C[C@@H]3CCNC3=O)C#N)C\"\n",
      "164701813,35,\"C23H32F3N5O4\",\"CC(C)C[C@@H](C(=O)N1CC2C(C1C(=O)N[C@@H](C[C@@H]3CCNC3=O)C#N)C2(C)C)NC(=O)C(F)(F)F\"\n",
      "164701818,35,\"C23H32F3N5O4\",\"CC1(C2C1C(N(C2)C(=O)[C@H](C(C)(C)C)NC(=O)C(F)(F)F)C(=O)N[C@H](C[C@@H]3CCNC3=O)C#N)C\"\n",
      "167065082,35,\"C23H32F3N5O4\",\"CC1(C2C1[C@H](N(C2)C(=O)C(C(C)(C)C)NC(=O)C(F)(F)F)C(=O)N[C@@H](C[C@@H]3CCNC3=O)C#N)C\"\n",
      "167094315,35,\"C23H32F3N5O4\",\"CC1([C@@H]2[C@H]1[C@H](N(C2)C(=O)C(C(C)(C)C)NC(=O)C(F)(F)F)C(=O)N[C@@H](C[C@@H]3CCNC3=O)C#N)C\"\n",
      "167094316,35,\"C23H32F3N5O4\",\"CC1([C@H]2C1CN([C@@H]2C(=O)N[C@@H](C[C@@H]3CCNC3=O)C#N)C(=O)C(C(C)(C)C)NC(=O)C(F)(F)F)C\"\n",
      "169240696,35,\"C23H32F3N5O4\",\"CC1(C2C1C(N(C2)C(=O)[C@H](C(C)(C)C)N([C@@H](C[C@@H]3CCNC3=O)C#N)C(=O)C(F)(F)F)C(=O)N)C\"\n",
      "169595994,35,\"C24H35F2N5O4\",\"CC(C)C[C@@H](C(=O)N1C[C@]2([C@@H]([C@H]1C(=O)N[C@@H](C[C@@H]3CCNC3=O)C#N)C2(C)C)C)NC(=O)C(F)F\"\n",
      "169686051,35,\"C23H32F3N5O4\",\"CC1([C@H]2C1CN([C@@H]2C(=O)N[C@@H](C[C@@H]3CCNC3=O)C#N)C(=O)[C@H](C(C)(C)C)NC(=O)C(F)(F)F)C\"\n",
      "169707956,35,\"C23H32F3N5O4\",\"CC1([C@@H]2[C@H]1[C@H](N(C2)C(=O)C(C(C)(C)C)NC(=O)C(F)(F)F)C(=O)NC(C[C@@H]3CCNC3=O)C#N)C\"\n",
      "169707957,35,\"C23H32F3N5O4\",\"CC1([C@@H]2[C@H]1[C@H](N(C2)C(=O)C(C(C)(C)C)NC(=O)C(F)(F)F)C(=O)N[C@@H](CC3CCNC3=O)C#N)C\"\n",
      "169860851,38,\"C25H37F3N6O4\",\"CC1(C2C1C(N(C2)C(=O)C(CCCCN(C)C)NC(=O)C(F)(F)F)C(=O)NC(CC3CCNC3=O)C#N)C\"\n",
      "169860863,37,\"C24H35F3N6O4\",\"CC1(C2C1C(N(C2)C(=O)C(CCCN(C)C)NC(=O)C(F)(F)F)C(=O)NC(CC3CCNC3=O)C#N)C\"\n",
      "169861121,38,\"C25H37F3N6O4\",\"CC1([C@@H]2[C@H]1[C@H](N(C2)C(=O)C(CCCCN(C)C)NC(=O)C(F)(F)F)C(=O)N[C@@H](CC3CCNC3=O)C#N)C\"\n",
      "169861123,37,\"C24H35F3N6O4\",\"CC1([C@@H]2[C@H]1[C@H](N(C2)C(=O)C(CCCN(C)C)NC(=O)C(F)(F)F)C(=O)N[C@@H](CC3CCNC3=O)C#N)C\"\n",
      "169861544,38,\"C25H37F3N6O4\",\"CC1([C@@H]2[C@H]1[C@H](N(C2)C(=O)[C@H](CCCCN(C)C)NC(=O)C(F)(F)F)C(=O)N[C@@H](C[C@@H]3CCNC3=O)C#N)C\"\n",
      "169861545,37,\"C24H35F3N6O4\",\"CC1([C@@H]2[C@H]1[C@H](N(C2)C(=O)[C@H](CCCN(C)C)NC(=O)C(F)(F)F)C(=O)N[C@@H](C[C@@H]3CCNC3=O)C#N)C\"\n",
      "169878303,36,\"C24H34F3N5O4\",\"CC1CNC(=O)[C@@H]1C[C@@H](C#N)NC(=O)[C@@H]2[C@@H]3[C@@H](C3(C)C)CN2C(=O)[C@H](C(C)(C)C)NC(=O)C(F)(F)F\"\n",
      "169878307,35,\"C23H32F3N5O4\",\"CC1CNC(=O)[C@@H]1C[C@@H](C#N)NC(=O)[C@@H]2[C@@H]3[C@@H](C3(C)C)CN2C(=O)[C@H](C(C)C)NC(=O)C(F)(F)F\"\n",
      "169914913,36,\"C24H34F3N5O4\",\"CC1([C@@H]2[C@H]1[C@H](N(C2)C(=O)[C@H](C(C)(C)C)NC(=O)CC(F)(F)F)C(=O)N[C@@H](C[C@@H]3CCNC3=O)C#N)C\"\n",
      "170060748,35,\"C23H32F3N5O4\",\"CC1([C@@H]2[C@H]1[C@H](N(C2)C(=O)[C@H](C(C)(C)C)NC(=O)C(F)(F)F)C(=O)NC(C[C@@H]3CCNC3=O)C#N)C\"\n",
      "170404012,35,\"C23H32F3N5O4\",\"CC1([C@@H]2[C@H]1C(N(C2)C(=O)[C@H](C(C)(C)C)NC(=O)C(F)(F)F)C(=O)N[C@@H](C[C@@H]3CCNC3=O)C#N)C\"\n",
      "170701834,35,\"C23H32F3N5O4\",\"CC1([C@@H]2[C@H]1[C@H](N(C2)C(=O)[C@H](C(C)(C)C)NC(=O)C(F)(F)F)C(=O)NCC[C@H]3C[C@H](NC3=O)C#N)C\"\n",
      "171530265,35,\"C23H34F3N5O4\",\"CC(C)C.CC1(C2C1C(N(C2)C(=O)CNC(=O)C(F)(F)F)C(=O)N[C@@H](C[C@@H]3CCNC3=O)C#N)C\"\n",
      "163285815,35,\"C23H32F3N5O4\",\"CC1([C@@H]2[C@@H]1[C@H](N(C2)C(=O)[C@H](C(C)(C)C)NC(=O)C(F)(F)F)C(=O)N[C@@H](C[C@@H]3CCNC3=O)C#N)C\"\n",
      "168476190,35,\"C23H32F3N5O4\",\"[2H]C1(C[C@H](C(=O)N1)C[C@@H](C#N)NC(=O)[C@@H]2[C@@H]3[C@@H](C3(C)C)CN2C(=O)[C@H](C(C)(C)C)NC(=O)C(F)(F)F)[2H]\"\n",
      "169240702,35,\"C23H32F3N5O4\",\"CC1(C2C1[C@H](N(C2)C(=O)[C@H](C(C)(C)C)NC(=O)C(F)(F)F)C(=O)NC(C[C@@H]3CCNC3=O)C#N)C\"\n",
      "171394959,35,\"C23H32F3N5O4\",\"CC1([C@@H]2[C@H]1[C@H](N(C2)C(=O)[C@H](C(C)(C)C)NC(=O)C(F)(F)F)C(=O)N[C@H](C[C@H]3CCNC3=O)C#N)C\"\n",
      "166642632,35,\"C23H32F3N5O4\",\"[2H]C([2H])([2H])C([C@@H](C(=O)N1C[C@H]2[C@@H]([C@H]1C(=O)N[C@@H](C[C@@H]3CCNC3=O)C#N)C2(C)C)NC(=O)C(F)(F)F)(C([2H])([2H])[2H])C([2H])([2H])[2H]\"\n"
     ]
    }
   ],
   "source": [
    "data = requests.post(\"https://pubchem.ncbi.nlm.nih.gov/rest/pug/compound/fastsimilarity_2d/smiles/property/HeavyAtomCount,MolecularFormula,IsomericSMILES/csv?Threshold=99\", data={'smiles':smiles}).text.strip()\n",
    "print(data)"
   ]
  },
  {
   "cell_type": "code",
   "execution_count": 14,
   "id": "9dc14792-b515-48a3-adb9-2a55d71cc5a5",
   "metadata": {},
   "outputs": [
    {
     "name": "stdout",
     "output_type": "stream",
     "text": [
      "64\n",
      "['168476190', '168301133', '155903259', '162396448', '162396443', '167331612', '162712482', '162396442', '162712489', '169595910', '166157170', '166157194', '168290284', '162712462', '166149071', '171347857', '169491069', '162396447', '170200908', '170200725', '169727506', '162712498', '166949501', '171502451', '171381582', '166949500', '165368436', '171362423', '167481592', '164622832', '167203580', '171350187', '171362422', '171502467', '170774498', '58799705', '58766735', '171843228', '167213710', '165368435', '167430402', '170774504', '164701814', '163321803', '170774499', '44227150', '166156672', '59115764', '58908752', '58605465', '59115469', '58908973', '58604790', '168941919', '169907726', '166156886', '169291122', '167203609', '167203582', '166157313', '169595980', '162396450', '166157277', '166157052']\n"
     ]
    }
   ],
   "source": [
    "smiles = \"CC1([C@@H]2[C@H]1[C@H](N(C2)C(=O)[C@H](C(C)(C)C)NC(=O)C(F)(F)F)C(=O)N[C@@H](C[C@@H]3CCNC3=O)C#N)C\"\n",
    "cids = requests.post(\"https://pubchem.ncbi.nlm.nih.gov/rest/pug/compound/fastsimilarity_3d/smiles/cids/txt\", data={'smiles':smiles}).text.strip().split()\n",
    "print(len(cids))\n",
    "print(cids)"
   ]
  },
  {
   "cell_type": "markdown",
   "id": "f0d86887-5388-49f9-baa8-e7238dab67a4",
   "metadata": {},
   "source": [
    "Currently, the similarity threshold used for 3-D similarity search is not adjustable, contrary to 2-D similarity search."
   ]
  },
  {
   "cell_type": "markdown",
   "id": "6581b498-bac2-440c-b0e9-b7c9d2d81ad5",
   "metadata": {},
   "source": [
    "## 5. Performing substructure/superstructure search"
   ]
  },
  {
   "cell_type": "code",
   "execution_count": 15,
   "id": "315bef81-df85-4dd3-8d71-ec0a54cfb5dc",
   "metadata": {},
   "outputs": [
    {
     "name": "stdout",
     "output_type": "stream",
     "text": [
      "41437\n"
     ]
    }
   ],
   "source": [
    "smiles = \"C2CN=C(C1=C(C=CC=C1)N2)C3=CC=CC=C3\"\n",
    "cids = requests.post(\"https://pubchem.ncbi.nlm.nih.gov/rest/pug/compound/fastsubstructure/smiles/cids/txt\", data={'smiles':smiles}).text.strip().split()\n",
    "print(len(cids))"
   ]
  },
  {
   "cell_type": "code",
   "execution_count": 16,
   "id": "76e39594-347a-4c26-a121-c7299626d0ec",
   "metadata": {},
   "outputs": [
    {
     "name": "stdout",
     "output_type": "stream",
     "text": [
      "6885\n"
     ]
    }
   ],
   "source": [
    "smiles = \"C2CN=C(C1=C(C=CC=C1)N2)C3=CC=CC=C3\"\n",
    "cids = requests.post(\"https://pubchem.ncbi.nlm.nih.gov/rest/pug/compound/fastsuperstructure/smiles/cids/txt\", data={'smiles':smiles}).text.strip().split()\n",
    "print(len(cids))"
   ]
  },
  {
   "cell_type": "markdown",
   "id": "4ccb7fb2-05ba-43f1-88ed-46a1e2948c33",
   "metadata": {},
   "source": [
    "## 7. Molecular Formula search"
   ]
  },
  {
   "cell_type": "code",
   "execution_count": 17,
   "id": "d5018b75-4b64-411f-8650-48b1b36aedca",
   "metadata": {},
   "outputs": [
    {
     "name": "stdout",
     "output_type": "stream",
     "text": [
      "1579\n"
     ]
    }
   ],
   "source": [
    "formula = \"C6H12O6\"\n",
    "cids = requests.get(\"https://pubchem.ncbi.nlm.nih.gov/rest/pug/compound/fastformula/\" + formula +\"/cids/txt\").text.strip().split()\n",
    "print(len(cids))"
   ]
  },
  {
   "cell_type": "markdown",
   "id": "349f5c70-ff8e-4c97-ac51-9ff69d89fb8f",
   "metadata": {},
   "source": [
    "You can download the structural information for the compounds returned from the molecular formula search."
   ]
  },
  {
   "cell_type": "code",
   "execution_count": 18,
   "id": "7c081dd5-893d-458e-b2b8-d7fc1de7214c",
   "metadata": {},
   "outputs": [
    {
     "name": "stdout",
     "output_type": "stream",
     "text": [
      "['CID', 'MolecularFormula', 'IsomericSMILES']\n",
      "892 \t C6H12O6 \t C1(C(C(C(C(C1O)O)O)O)O)O\n",
      "5793 \t C6H12O6 \t C([C@@H]1[C@H]([C@@H]([C@H](C(O1)O)O)O)O)O\n",
      "2723872 \t C6H12O6 \t C1[C@H]([C@H]([C@@H](C(O1)(CO)O)O)O)O\n",
      "6036 \t C6H12O6 \t C([C@@H]1[C@@H]([C@@H]([C@H](C(O1)O)O)O)O)O\n",
      "107526 \t C6H12O6 \t C([C@H]([C@H]([C@@H]([C@H](C=O)O)O)O)O)O\n",
      "64689 \t C6H12O6 \t C([C@@H]1[C@H]([C@@H]([C@H]([C@@H](O1)O)O)O)O)O\n",
      "439312 \t C6H12O6 \t C1[C@H]([C@@H]([C@@H](C(O1)(CO)O)O)O)O\n",
      "24310 \t C6H12O6 \t C1[C@H]([C@H]([C@@H]([C@](O1)(CO)O)O)O)O\n",
      "439353 \t C6H12O6 \t C([C@@H]1[C@@H]([C@@H]([C@H]([C@@H](O1)O)O)O)O)O\n",
      "439709 \t C6H12O6 \t C([C@@H]1[C@H]([C@@H]([C@](O1)(CO)O)O)O)O\n"
     ]
    }
   ],
   "source": [
    "data = requests.get(\"https://pubchem.ncbi.nlm.nih.gov/rest/pug/compound/fastformula/\" + formula +\"/property/MolecularFormula,IsomericSMILES/CSV\").text.strip()\n",
    "\n",
    "cid_props = {}\n",
    "reader = csv.reader(io.StringIO(data))\n",
    "print(next(reader))  # Print the first line (column header)\n",
    "\n",
    "for row in reader:\n",
    "    key = row[0]\n",
    "    cid_props[key] = row[1:]\n",
    "\n",
    "count = 0\n",
    "for item in cid_props:\n",
    "    \n",
    "    count += 1\n",
    "    print(item, \"\\t\", cid_props[item][0], \"\\t\", cid_props[item][1])\n",
    "    if count == 10 :  # For simplicity, print only the first 10 items.\n",
    "        break"
   ]
  },
  {
   "cell_type": "code",
   "execution_count": 19,
   "id": "a3952ca0-e4f5-490a-8e0a-62725fd5abbd",
   "metadata": {},
   "outputs": [
    {
     "name": "stdout",
     "output_type": "stream",
     "text": [
      "3335\n"
     ]
    }
   ],
   "source": [
    "cids = requests.get(\"https://pubchem.ncbi.nlm.nih.gov/rest/pug/compound/fastformula/\" + formula +\"/cids/txt?AllowOtherElements=True\").text.strip().split()\n",
    "print(len(cids))"
   ]
  },
  {
   "cell_type": "code",
   "execution_count": 20,
   "id": "561c502e-3667-4774-8e0c-64e2be89696c",
   "metadata": {},
   "outputs": [
    {
     "name": "stdout",
     "output_type": "stream",
     "text": [
      "['CID', 'MolecularFormula', 'IsomericSMILES']\n",
      "892 \t C6H12O6 \t C1(C(C(C(C(C1O)O)O)O)O)O\n",
      "5793 \t C6H12O6 \t C([C@@H]1[C@H]([C@@H]([C@H](C(O1)O)O)O)O)O\n",
      "2723872 \t C6H12O6 \t C1[C@H]([C@H]([C@@H](C(O1)(CO)O)O)O)O\n",
      "6036 \t C6H12O6 \t C([C@@H]1[C@@H]([C@@H]([C@H](C(O1)O)O)O)O)O\n",
      "107526 \t C6H12O6 \t C([C@H]([C@H]([C@@H]([C@H](C=O)O)O)O)O)O\n",
      "64689 \t C6H12O6 \t C([C@@H]1[C@H]([C@@H]([C@H]([C@@H](O1)O)O)O)O)O\n",
      "439312 \t C6H12O6 \t C1[C@H]([C@@H]([C@@H](C(O1)(CO)O)O)O)O\n",
      "24310 \t C6H12O6 \t C1[C@H]([C@H]([C@@H]([C@](O1)(CO)O)O)O)O\n",
      "439353 \t C6H12O6 \t C([C@@H]1[C@@H]([C@@H]([C@H]([C@@H](O1)O)O)O)O)O\n",
      "439709 \t C6H12O6 \t C([C@@H]1[C@H]([C@@H]([C@](O1)(CO)O)O)O)O\n"
     ]
    }
   ],
   "source": [
    "data = requests.get(\"https://pubchem.ncbi.nlm.nih.gov/rest/pug/compound/fastformula/\" + formula +\"/property/MolecularFormula,IsomericSMILES/CSV?AllowOtherElements=True\").text.strip()\n",
    "\n",
    "cid_props = {}\n",
    "reader = csv.reader(io.StringIO(data))\n",
    "print(next(reader))  # Print the first line (column header)\n",
    "\n",
    "for row in reader:\n",
    "    key = row[0]\n",
    "    cid_props[key] = row[1:]\n",
    "\n",
    "count = 0\n",
    "for item in cid_props:\n",
    "    \n",
    "    count += 1\n",
    "    print(item, \"\\t\", cid_props[item][0], \"\\t\", cid_props[item][1])\n",
    "    if count == 10 :  # For simplicity, print only the first 10 items.\n",
    "        break"
   ]
  },
  {
   "cell_type": "code",
   "execution_count": null,
   "id": "ff6af9c5-3c21-41a0-9b90-e7fe0b30fc21",
   "metadata": {},
   "outputs": [],
   "source": []
  },
  {
   "cell_type": "code",
   "execution_count": null,
   "id": "ea2dc9aa-ab3e-4db7-b301-80689f311534",
   "metadata": {},
   "outputs": [],
   "source": []
  }
 ],
 "metadata": {
  "kernelspec": {
   "display_name": ".venv",
   "language": "python",
   "name": "python3"
  },
  "language_info": {
   "codemirror_mode": {
    "name": "ipython",
    "version": 3
   },
   "file_extension": ".py",
   "mimetype": "text/x-python",
   "name": "python",
   "nbconvert_exporter": "python",
   "pygments_lexer": "ipython3",
   "version": "3.13.0"
  }
 },
 "nbformat": 4,
 "nbformat_minor": 5
}
